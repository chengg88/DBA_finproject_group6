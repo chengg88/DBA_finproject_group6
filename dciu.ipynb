{
 "cells": [
  {
   "cell_type": "code",
   "execution_count": 1,
   "metadata": {},
   "outputs": [],
   "source": [
    "import pandas as pd\n",
    "from datetime import datetime\n",
    "import sys\n",
    "import os\n",
    "import matplotlib.pyplot as plt\n",
    "import json\n",
    "import logging\n",
    "from MSSQLDB_Datamanager import DataManager"
   ]
  },
  {
   "cell_type": "code",
   "execution_count": null,
   "metadata": {},
   "outputs": [],
   "source": [
    "## logger 設定\n",
    "now = datetime.now()\n",
    "log_filename = 'DBA_finproject_{}.log'.format(now.strftime('%Y-%m-%d'))\n",
    "logger = logging.getLogger(__name__)\n",
    "logger.setLevel(logging.DEBUG)\n",
    "formatter = logging.Formatter('%(asctime)s:%(levelname)s:%(message)s')\n",
    "log_dir ='./var/log'\n",
    "if not os.path.exists(log_dir):\n",
    "    os.makedirs(log_dir)\n",
    "file_handler = logging.FileHandler('./var/log/' + log_filename)\n",
    "file_handler.setFormatter(formatter)\n",
    "logger.addHandler(file_handler)\n",
    "\n",
    "## config 讀取\n",
    "cfg_path = r\".\\config.json\"\n",
    "with open(cfg_path, 'r', encoding='utf-8-sig') as f:\n",
    "    cfg = json.load(f)\n",
    "# databse connection information\n",
    "db_cfg = cfg['db_connect']\n",
    "db_cfg['creator'] = __import__(db_cfg['creator'])"
   ]
  },
  {
   "cell_type": "code",
   "execution_count": null,
   "metadata": {},
   "outputs": [],
   "source": [
    "## 資料區間設定\n",
    "time_start = '2022-12-01'\n",
    "time_end = '2023-03-31'\n",
    "## query 資料\n",
    "\n",
    "DM = DataManager(logger, db_cfg ,time_start, time_end)\n",
    "Behavior,MemberData,OrderData,OrderSlave,SalePageData,SegmentData = DM.read_data_from_db()"
   ]
  },
  {
   "cell_type": "code",
   "execution_count": null,
   "metadata": {},
   "outputs": [],
   "source": [
    "from MSSQLDB_manager import Manager\n",
    "time_start = '2022-12-01'\n",
    "time_end = '2023-03-31'\n",
    "db = Manager(logger, db_cfg ,time_start ,time_end)\n",
    "db.get_db_table('Behavior',creat_dt = True)"
   ]
  },
  {
   "cell_type": "code",
   "execution_count": null,
   "metadata": {},
   "outputs": [],
   "source": [
    "Behavior.info()"
   ]
  },
  {
   "cell_type": "code",
   "execution_count": null,
   "metadata": {},
   "outputs": [],
   "source": [
    "cstm_behavoir = Behavior.groupby('FullvisitorId')\n",
    "visitor_Ids = Behavior.FullvisitorId.unique().tolist()"
   ]
  },
  {
   "cell_type": "code",
   "execution_count": null,
   "metadata": {},
   "outputs": [],
   "source": [
    "tmp = cstm_behavoir.get_group(visitor_Ids[0])"
   ]
  },
  {
   "cell_type": "code",
   "execution_count": 18,
   "metadata": {},
   "outputs": [],
   "source": [
    "import pandas as pd\n",
    "pd.set_option('display.max_rows', 500)\n",
    "pd.set_option('display.max_columns', 500)\n",
    "pd.set_option('display.width', 1000)"
   ]
  },
  {
   "cell_type": "code",
   "execution_count": 2,
   "metadata": {},
   "outputs": [],
   "source": [
    "from Customer import *\n",
    "import math\n",
    "from tqdm import tqdm\n",
    "import warnings\n",
    "from datetime import timedelta\n",
    "warnings.filterwarnings('ignore')"
   ]
  },
  {
   "cell_type": "code",
   "execution_count": 3,
   "metadata": {},
   "outputs": [],
   "source": [
    "df = pd.read_csv(r\"BehaviorData_2023-02-01.csv\")"
   ]
  },
  {
   "cell_type": "code",
   "execution_count": 5,
   "metadata": {},
   "outputs": [],
   "source": [
    "df['HitDateTime'] = df['HitTime'].apply(lambda x : pd.to_datetime(x,unit='ms')+timedelta(hours=8))"
   ]
  },
  {
   "cell_type": "code",
   "execution_count": 6,
   "metadata": {},
   "outputs": [],
   "source": [
    "df['EventDateTime'] = df['EventTime'].apply(lambda x : pd.to_datetime(x,unit='ms')+timedelta(hours=8))\n",
    "df = df.drop(columns=['HitTime','EventTime'])\n"
   ]
  },
  {
   "cell_type": "code",
   "execution_count": 7,
   "metadata": {},
   "outputs": [],
   "source": [
    "df.to_csv('date_transform_BehaviorData_2023-02-01.csv', index = False)"
   ]
  },
  {
   "cell_type": "code",
   "execution_count": 8,
   "metadata": {},
   "outputs": [],
   "source": [
    "df.sort_values(by = ['ShopMemberId','FullvisitorId', 'HitDateTime', 'EventDateTime'], inplace= True)"
   ]
  },
  {
   "cell_type": "code",
   "execution_count": 9,
   "metadata": {},
   "outputs": [],
   "source": [
    "df_copy = df.copy()"
   ]
  },
  {
   "cell_type": "code",
   "execution_count": 10,
   "metadata": {},
   "outputs": [],
   "source": [
    "df_copy.drop(df_copy[df_copy.ShopMemberId.isnull()].index, inplace=True)"
   ]
  },
  {
   "cell_type": "code",
   "execution_count": 11,
   "metadata": {},
   "outputs": [],
   "source": [
    "session_data = df_copy.groupby(['ShopMemberId', 'HitDateTime'])"
   ]
  },
  {
   "cell_type": "code",
   "execution_count": 12,
   "metadata": {},
   "outputs": [],
   "source": [
    "ids = df.ShopMemberId.unique().tolist()"
   ]
  },
  {
   "cell_type": "code",
   "execution_count": 14,
   "metadata": {},
   "outputs": [],
   "source": [
    "dciu_table = df_copy[['ShopMemberId', 'HitDateTime']]"
   ]
  },
  {
   "cell_type": "code",
   "execution_count": 15,
   "metadata": {},
   "outputs": [],
   "source": [
    "dciu_table.drop_duplicates(inplace=True)"
   ]
  },
  {
   "cell_type": "code",
   "execution_count": 16,
   "metadata": {},
   "outputs": [],
   "source": [
    "from datetime import datetime"
   ]
  },
  {
   "cell_type": "code",
   "execution_count": 34,
   "metadata": {},
   "outputs": [],
   "source": [
    "dciu_table.sort_values(by = ['HitDateTime'], inplace = True)\n",
    "dciu_table.reset_index(drop = True, inplace = True)\n",
    "dciu_table.to_csv(f'dciu_{datetime.now().strftime(\"%Y%m%d\")}')"
   ]
  },
  {
   "cell_type": "code",
   "execution_count": 35,
   "metadata": {},
   "outputs": [
    {
     "data": {
      "text/html": [
       "<div>\n",
       "<style scoped>\n",
       "    .dataframe tbody tr th:only-of-type {\n",
       "        vertical-align: middle;\n",
       "    }\n",
       "\n",
       "    .dataframe tbody tr th {\n",
       "        vertical-align: top;\n",
       "    }\n",
       "\n",
       "    .dataframe thead th {\n",
       "        text-align: right;\n",
       "    }\n",
       "</style>\n",
       "<table border=\"1\" class=\"dataframe\">\n",
       "  <thead>\n",
       "    <tr style=\"text-align: right;\">\n",
       "      <th></th>\n",
       "      <th>ShopMemberId</th>\n",
       "      <th>HitDateTime</th>\n",
       "    </tr>\n",
       "  </thead>\n",
       "  <tbody>\n",
       "    <tr>\n",
       "      <th>0</th>\n",
       "      <td>BM6BBq0B4v+9mZ8q/reGWrxNIS+rVhloX8Qdvxtab5g=</td>\n",
       "      <td>2023-02-01 08:00:12.946</td>\n",
       "    </tr>\n",
       "    <tr>\n",
       "      <th>1</th>\n",
       "      <td>CMUcNcCnQR0Ef1sblo72oYCCJjbWPwtNA9/CFi9Y6GY=</td>\n",
       "      <td>2023-02-01 08:01:07.506</td>\n",
       "    </tr>\n",
       "    <tr>\n",
       "      <th>2</th>\n",
       "      <td>yfG9iHYdWWdSk/RW/k6VdOjW2Qy8tpeuJ/0ZmVSWWA0=</td>\n",
       "      <td>2023-02-01 08:01:15.172</td>\n",
       "    </tr>\n",
       "    <tr>\n",
       "      <th>3</th>\n",
       "      <td>cfht4mjSXC786WjpNkZahrdjUljO7QsCSsGaGiiX8sk=</td>\n",
       "      <td>2023-02-01 08:02:34.187</td>\n",
       "    </tr>\n",
       "    <tr>\n",
       "      <th>4</th>\n",
       "      <td>GsBR8N+I11O53IY9JZWhajo0hK7W8+A1HBR7J+LHcqs=</td>\n",
       "      <td>2023-02-01 08:02:55.009</td>\n",
       "    </tr>\n",
       "    <tr>\n",
       "      <th>...</th>\n",
       "      <td>...</td>\n",
       "      <td>...</td>\n",
       "    </tr>\n",
       "    <tr>\n",
       "      <th>294703</th>\n",
       "      <td>je7FOhqH374oEQLfcjZwKjm9Pzrzw2EbIsZy7FuWgt0=</td>\n",
       "      <td>2023-03-01 07:57:59.920</td>\n",
       "    </tr>\n",
       "    <tr>\n",
       "      <th>294704</th>\n",
       "      <td>dxhYyKNFK0Sh/9IYmK7EWj+2REdXBbyEo7Zm5R2AyLw=</td>\n",
       "      <td>2023-03-01 07:58:37.574</td>\n",
       "    </tr>\n",
       "    <tr>\n",
       "      <th>294705</th>\n",
       "      <td>2e7KEcbBoprEEUc2EYTaj77oswdsC04GVvyeUNNV0uc=</td>\n",
       "      <td>2023-03-01 07:59:00.278</td>\n",
       "    </tr>\n",
       "    <tr>\n",
       "      <th>294706</th>\n",
       "      <td>j4z50WByupJrGQHeBCpkEvVOqrXGqiy3jaKD0c+q180=</td>\n",
       "      <td>2023-03-01 07:59:04.373</td>\n",
       "    </tr>\n",
       "    <tr>\n",
       "      <th>294707</th>\n",
       "      <td>PnXXIrfagRucnEoyYdnG6g2SwAVvZR7AUQhWEbh3CzI=</td>\n",
       "      <td>2023-03-01 07:59:25.392</td>\n",
       "    </tr>\n",
       "  </tbody>\n",
       "</table>\n",
       "<p>294708 rows × 2 columns</p>\n",
       "</div>"
      ],
      "text/plain": [
       "                                        ShopMemberId             HitDateTime\n",
       "0       BM6BBq0B4v+9mZ8q/reGWrxNIS+rVhloX8Qdvxtab5g= 2023-02-01 08:00:12.946\n",
       "1       CMUcNcCnQR0Ef1sblo72oYCCJjbWPwtNA9/CFi9Y6GY= 2023-02-01 08:01:07.506\n",
       "2       yfG9iHYdWWdSk/RW/k6VdOjW2Qy8tpeuJ/0ZmVSWWA0= 2023-02-01 08:01:15.172\n",
       "3       cfht4mjSXC786WjpNkZahrdjUljO7QsCSsGaGiiX8sk= 2023-02-01 08:02:34.187\n",
       "4       GsBR8N+I11O53IY9JZWhajo0hK7W8+A1HBR7J+LHcqs= 2023-02-01 08:02:55.009\n",
       "...                                              ...                     ...\n",
       "294703  je7FOhqH374oEQLfcjZwKjm9Pzrzw2EbIsZy7FuWgt0= 2023-03-01 07:57:59.920\n",
       "294704  dxhYyKNFK0Sh/9IYmK7EWj+2REdXBbyEo7Zm5R2AyLw= 2023-03-01 07:58:37.574\n",
       "294705  2e7KEcbBoprEEUc2EYTaj77oswdsC04GVvyeUNNV0uc= 2023-03-01 07:59:00.278\n",
       "294706  j4z50WByupJrGQHeBCpkEvVOqrXGqiy3jaKD0c+q180= 2023-03-01 07:59:04.373\n",
       "294707  PnXXIrfagRucnEoyYdnG6g2SwAVvZR7AUQhWEbh3CzI= 2023-03-01 07:59:25.392\n",
       "\n",
       "[294708 rows x 2 columns]"
      ]
     },
     "execution_count": 35,
     "metadata": {},
     "output_type": "execute_result"
    }
   ],
   "source": [
    "dciu_table"
   ]
  },
  {
   "cell_type": "code",
   "execution_count": 41,
   "metadata": {},
   "outputs": [],
   "source": [
    "new = df_copy[['ShopMemberId', 'HitDateTime','Behavior']].copy()\n",
    "new = new.groupby(['ShopMemberId', 'HitDateTime', 'Behavior']).Behavior.count().unstack()\n",
    "new = new.rename_axis(columns=None)\n",
    "new.reset_index(inplace=True)"
   ]
  },
  {
   "cell_type": "code",
   "execution_count": 43,
   "metadata": {},
   "outputs": [],
   "source": [
    "new.fillna(0, inplace=True)"
   ]
  },
  {
   "cell_type": "code",
   "execution_count": 48,
   "metadata": {},
   "outputs": [],
   "source": [
    "new.purchase = new.purchase.apply(lambda x: 0 if x < 1.0 else 1)"
   ]
  },
  {
   "cell_type": "code",
   "execution_count": 52,
   "metadata": {},
   "outputs": [
    {
     "data": {
      "text/plain": [
       "Index(['ShopMemberId', 'HitDateTime', 'add', 'checkout', 'purchase', 'register', 'search', 'selectcontent', 'viewarticledetail', 'viewcategory', 'viewcoupondetail', 'viewcustompage', 'viewecoupondetail', 'viewmainpage', 'viewproduct', 'viewpromotiondetail', 'viewvideodetail'], dtype='object')"
      ]
     },
     "execution_count": 52,
     "metadata": {},
     "output_type": "execute_result"
    }
   ],
   "source": [
    "new.columns"
   ]
  },
  {
   "cell_type": "code",
   "execution_count": 51,
   "metadata": {},
   "outputs": [],
   "source": [
    "from sklearn.ensemble import RandomForestClassifier\n",
    "from sklearn.metrics import accuracy_score\n",
    "from sklearn.model_selection import train_test_split"
   ]
  },
  {
   "cell_type": "code",
   "execution_count": 65,
   "metadata": {},
   "outputs": [],
   "source": [
    "X = new.drop(['ShopMemberId', 'HitDateTime', 'purchase'], axis = 1)\n",
    "Y = new[['purchase']]"
   ]
  },
  {
   "cell_type": "code",
   "execution_count": 66,
   "metadata": {},
   "outputs": [],
   "source": [
    "X_train, X_test, y_train, y_test = train_test_split(X, Y, test_size=0.3)"
   ]
  },
  {
   "cell_type": "code",
   "execution_count": 68,
   "metadata": {},
   "outputs": [
    {
     "name": "stdout",
     "output_type": "stream",
     "text": [
      "trian accuracy_score 0.9981143508083085\n",
      "test accuracy_score 0.9854206960514856\n"
     ]
    }
   ],
   "source": [
    "rf = RandomForestClassifier()\n",
    "rf.fit(X_train, y_train)\n",
    "trian_pred = rf.predict(X_train)\n",
    "y_pred = rf.predict(X_test)\n",
    "print(\"trian accuracy_score\", accuracy_score(y_train, trian_pred))\n",
    "print(\"test accuracy_score\", accuracy_score(y_test, y_pred))"
   ]
  },
  {
   "cell_type": "code",
   "execution_count": 69,
   "metadata": {},
   "outputs": [
    {
     "data": {
      "text/plain": [
       "array([6.16245029e-02, 4.55202730e-01, 2.01395201e-02, 1.29159039e-02,\n",
       "       1.02989949e-01, 6.68038078e-04, 7.68340765e-02, 3.54634203e-04,\n",
       "       2.69232929e-02, 4.17902352e-02, 6.31497329e-02, 1.05323458e-01,\n",
       "       3.20428908e-02, 4.10360450e-05])"
      ]
     },
     "execution_count": 69,
     "metadata": {},
     "output_type": "execute_result"
    }
   ],
   "source": [
    "rf.feature_importances_"
   ]
  },
  {
   "cell_type": "code",
   "execution_count": 70,
   "metadata": {},
   "outputs": [
    {
     "data": {
      "text/plain": [
       "Index(['add', 'checkout', 'register', 'search', 'selectcontent', 'viewarticledetail', 'viewcategory', 'viewcoupondetail', 'viewcustompage', 'viewecoupondetail', 'viewmainpage', 'viewproduct', 'viewpromotiondetail', 'viewvideodetail'], dtype='object')"
      ]
     },
     "execution_count": 70,
     "metadata": {},
     "output_type": "execute_result"
    }
   ],
   "source": [
    "X_train.columns"
   ]
  },
  {
   "cell_type": "code",
   "execution_count": 76,
   "metadata": {},
   "outputs": [],
   "source": [
    "weight = {}\n",
    "for i in range(len(X_train.columns)):\n",
    "    weight[X_train.columns[i]] = rf.feature_importances_[i]"
   ]
  },
  {
   "cell_type": "code",
   "execution_count": 77,
   "metadata": {},
   "outputs": [
    {
     "data": {
      "text/plain": [
       "{'add': 0.06162450285927115,\n",
       " 'checkout': 0.45520272982657534,\n",
       " 'register': 0.020139520069162392,\n",
       " 'search': 0.012915903926722996,\n",
       " 'selectcontent': 0.10298994889033038,\n",
       " 'viewarticledetail': 0.0006680380779737929,\n",
       " 'viewcategory': 0.07683407647010693,\n",
       " 'viewcoupondetail': 0.0003546342026053095,\n",
       " 'viewcustompage': 0.02692329291559931,\n",
       " 'viewecoupondetail': 0.04179023523081222,\n",
       " 'viewmainpage': 0.06314973290570475,\n",
       " 'viewproduct': 0.10532345780015884,\n",
       " 'viewpromotiondetail': 0.032042890779943094,\n",
       " 'viewvideodetail': 4.103604503372896e-05}"
      ]
     },
     "execution_count": 77,
     "metadata": {},
     "output_type": "execute_result"
    }
   ],
   "source": [
    "new['Weight'] = new['Behavior'].apply(lambda )"
   ]
  },
  {
   "cell_type": "code",
   "execution_count": 71,
   "metadata": {},
   "outputs": [],
   "source": [
    "from sklearn.linear_model import LogisticRegression\n"
   ]
  },
  {
   "cell_type": "code",
   "execution_count": 74,
   "metadata": {},
   "outputs": [
    {
     "name": "stdout",
     "output_type": "stream",
     "text": [
      "trian accuracy_score 0.9828158704767445\n",
      "test accuracy_score 0.9830794113987762\n"
     ]
    }
   ],
   "source": [
    "lr=  LogisticRegression()\n",
    "lr.fit(X_train, y_train)\n",
    "tp = lr.predict(X_train)\n",
    "p = lr.predict(X_test)\n",
    "print(\"trian accuracy_score\", accuracy_score(y_train, tp))\n",
    "print(\"test accuracy_score\", accuracy_score(y_test, p))"
   ]
  },
  {
   "cell_type": "code",
   "execution_count": null,
   "metadata": {},
   "outputs": [],
   "source": []
  }
 ],
 "metadata": {
  "kernelspec": {
   "display_name": "base",
   "language": "python",
   "name": "python3"
  },
  "language_info": {
   "codemirror_mode": {
    "name": "ipython",
    "version": 3
   },
   "file_extension": ".py",
   "mimetype": "text/x-python",
   "name": "python",
   "nbconvert_exporter": "python",
   "pygments_lexer": "ipython3",
   "version": "3.10.9"
  },
  "orig_nbformat": 4
 },
 "nbformat": 4,
 "nbformat_minor": 2
}
