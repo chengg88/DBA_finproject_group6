{
 "cells": [
  {
   "cell_type": "code",
   "execution_count": 1,
   "metadata": {},
   "outputs": [],
   "source": [
    "import pandas as pd\n",
    "from datetime import datetime\n",
    "import sys\n",
    "import os\n",
    "import matplotlib.pyplot as plt\n",
    "import json\n",
    "import logging\n",
    "from MSSQLDB_Datamanager import DataManager"
   ]
  },
  {
   "cell_type": "code",
   "execution_count": 2,
   "metadata": {},
   "outputs": [],
   "source": [
    "## logger 設定\n",
    "now = datetime.now()\n",
    "log_filename = 'DBA_finproject_{}.log'.format(now.strftime('%Y-%m-%d'))\n",
    "logger = logging.getLogger(__name__)\n",
    "logger.setLevel(logging.DEBUG)\n",
    "formatter = logging.Formatter('%(asctime)s:%(levelname)s:%(message)s')\n",
    "log_dir = '.\\\\var\\\\log'\n",
    "if not os.path.exists(log_dir):\n",
    "    os.makedirs(log_dir)\n",
    "file_handler = logging.FileHandler('./var/log/' + log_filename)\n",
    "file_handler.setFormatter(formatter)\n",
    "logger.addHandler(file_handler)\n",
    "\n",
    "## config 讀取\n",
    "cfg_path = r\".\\config.json\"\n",
    "with open(cfg_path, 'r', encoding='utf-8-sig') as f:\n",
    "    cfg = json.load(f)\n",
    "# databse connection information\n",
    "db_cfg = cfg['db_connect']\n",
    "db_cfg['creator'] = __import__(db_cfg['creator'])"
   ]
  },
  {
   "cell_type": "code",
   "execution_count": 3,
   "metadata": {},
   "outputs": [
    {
     "name": "stdout",
     "output_type": "stream",
     "text": [
      "{message : return db query result}\n"
     ]
    }
   ],
   "source": [
    "## 資料區間設定\n",
    "time_start = '2023-03-25'\n",
    "time_end = '2023-03-26'\n",
    "## query 資料\n",
    "DM = DataManager(logger, db_cfg ,time_start, time_end)\n",
    "Behavior,MemberData,OrderData,OrderSlave,SalePageData,SegmentData = DM.read_data_from_db()"
   ]
  },
  {
   "cell_type": "code",
   "execution_count": 5,
   "metadata": {},
   "outputs": [
    {
     "data": {
      "text/html": [
       "<div>\n",
       "<style scoped>\n",
       "    .dataframe tbody tr th:only-of-type {\n",
       "        vertical-align: middle;\n",
       "    }\n",
       "\n",
       "    .dataframe tbody tr th {\n",
       "        vertical-align: top;\n",
       "    }\n",
       "\n",
       "    .dataframe thead th {\n",
       "        text-align: right;\n",
       "    }\n",
       "</style>\n",
       "<table border=\"1\" class=\"dataframe\">\n",
       "  <thead>\n",
       "    <tr style=\"text-align: right;\">\n",
       "      <th></th>\n",
       "      <th>Tunnel</th>\n",
       "      <th>Device</th>\n",
       "      <th>FullvisitorId</th>\n",
       "      <th>DeviceId</th>\n",
       "      <th>ShopMemberId</th>\n",
       "      <th>HitTime</th>\n",
       "      <th>Language</th>\n",
       "      <th>CountryAliasCode</th>\n",
       "      <th>Version</th>\n",
       "      <th>UTMSource</th>\n",
       "      <th>...</th>\n",
       "      <th>Qty</th>\n",
       "      <th>TotalSalesAmount</th>\n",
       "      <th>CurrencyCode</th>\n",
       "      <th>TradesGroupCode</th>\n",
       "      <th>SearchTerm</th>\n",
       "      <th>ContentType</th>\n",
       "      <th>ContentName</th>\n",
       "      <th>ContentId</th>\n",
       "      <th>PageType</th>\n",
       "      <th>EventTime</th>\n",
       "    </tr>\n",
       "  </thead>\n",
       "  <tbody>\n",
       "  </tbody>\n",
       "</table>\n",
       "<p>0 rows × 27 columns</p>\n",
       "</div>"
      ],
      "text/plain": [
       "Empty DataFrame\n",
       "Columns: [Tunnel, Device, FullvisitorId, DeviceId, ShopMemberId, HitTime, Language, CountryAliasCode, Version, UTMSource, UTMMedium, UTMName, Behavior, RegisterTunnel, CategoryId, SalePageId, UnitPrice, Qty, TotalSalesAmount, CurrencyCode, TradesGroupCode, SearchTerm, ContentType, ContentName, ContentId, PageType, EventTime]\n",
       "Index: []\n",
       "\n",
       "[0 rows x 27 columns]"
      ]
     },
     "execution_count": 5,
     "metadata": {},
     "output_type": "execute_result"
    }
   ],
   "source": [
    "Behavior.head()"
   ]
  },
  {
   "cell_type": "code",
   "execution_count": null,
   "metadata": {},
   "outputs": [],
   "source": []
  }
 ],
 "metadata": {
  "kernelspec": {
   "display_name": "base",
   "language": "python",
   "name": "python3"
  },
  "language_info": {
   "codemirror_mode": {
    "name": "ipython",
    "version": 3
   },
   "file_extension": ".py",
   "mimetype": "text/x-python",
   "name": "python",
   "nbconvert_exporter": "python",
   "pygments_lexer": "ipython3",
   "version": "3.10.10"
  },
  "orig_nbformat": 4
 },
 "nbformat": 4,
 "nbformat_minor": 2
}
