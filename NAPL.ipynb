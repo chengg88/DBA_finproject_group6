{
 "cells": [
  {
   "cell_type": "code",
   "execution_count": null,
   "metadata": {},
   "outputs": [],
   "source": [
    "import pandas as pd\n",
    "import numpy as np\n",
    "from datetime import datetime\n",
    "import sys\n",
    "import os\n",
    "import matplotlib.pyplot as plt\n",
    "import json\n",
    "import logging\n",
    "from MSSQLDB_Datamanager import DataManager\n",
    "\n",
    "## logger 設定\n",
    "now = datetime.now()\n",
    "log_filename = 'DBA_finproject_{}.log'.format(now.strftime('%Y-%m-%d'))\n",
    "logger = logging.getLogger(__name__)\n",
    "logger.setLevel(logging.DEBUG)\n",
    "formatter = logging.Formatter('%(asctime)s:%(levelname)s:%(message)s')\n",
    "log_dir = '.\\\\var\\\\log'\n",
    "if not os.path.exists(log_dir):\n",
    "    os.makedirs(log_dir)\n",
    "file_handler = logging.FileHandler('./var/log/' + log_filename)\n",
    "file_handler.setFormatter(formatter)\n",
    "logger.addHandler(file_handler)\n",
    "\n",
    "## config 讀取\n",
    "cfg_path = r\".\\config.json\"\n",
    "with open(cfg_path, 'r', encoding='utf-8-sig') as f:\n",
    "    cfg = json.load(f)\n",
    "# databse connection information\n",
    "db_cfg = cfg['db_connect']\n",
    "db_cfg['creator'] = __import__(db_cfg['creator'])"
   ]
  },
  {
   "cell_type": "code",
   "execution_count": null,
   "metadata": {},
   "outputs": [],
   "source": [
    "## 資料區間設定\n",
    "time_start = '2022-03-01'\n",
    "time_end = '2023-04-01'\n",
    "## query 資料\n",
    "DM = DataManager(logger, db_cfg ,time_start, time_end)\n",
    "# 撈所有表\n",
    "# Behavior,MemberData,OrderData,OrderSlave,SalePageData,SegmentData = DM.read_ALL_data_from_db()\n",
    "# 只撈其中一張\n",
    "OrderData = DM.read_data_from_db(TableName= 'OrderData')"
   ]
  },
  {
   "cell_type": "code",
   "execution_count": null,
   "metadata": {},
   "outputs": [],
   "source": [
    "OrderData = OrderData[(OrderData.StatusDef == 'Finish')|(OrderData.StatusDef == 'Return')].reset_index(drop=True)\n",
    "OrderData.OrderDateTime = OrderData.OrderDateTime.apply(lambda x: pd.to_datetime(x).strftime('%Y-%m-%d %H:%M:%S'))"
   ]
  },
  {
   "cell_type": "code",
   "execution_count": null,
   "metadata": {},
   "outputs": [],
   "source": [
    "def cal_median(data):\n",
    "    data.sort_values('OrderDateTime', inplace = True)\n",
    "    data.reset_index(drop = True, inplace = True)\n",
    "    data['interval'] = data.groupby('ShopMemberId', as_index = True).OrderDateTime.diff()\n",
    "    data['interval'] = data['interval'].dt.total_seconds()\n",
    "    data['interval'].fillna(0, inplace = True)\n",
    "    eta = round(data[(data.StatusDef == 'Finish')&(data.interval != 0)].interval.median(), 0)\n",
    "    return eta"
   ]
  },
  {
   "cell_type": "code",
   "execution_count": null,
   "metadata": {},
   "outputs": [],
   "source": [
    "def labeling(x, overall_interval_median):\n",
    "    OrderData_id = OrderData[OrderData.ShopMemberId == x].copy()\n",
    "    OrderData_id = OrderData_id[OrderData_id['StatusDef'] == 'Finish']\n",
    "    OrderData_id.reset_index(drop= True, inplace=True)\n",
    "    if len(OrderData_id) != 0:\n",
    "        # 計算所有區間的frequency\n",
    "        F = OrderData_id.groupby('ShopMemberId')['TradesGroupCode'].count()[0]\n",
    "        if F > 1:\n",
    "            # 個別ID中位數\n",
    "            med = cal_median(OrderData_id)\n",
    "            med = abs(med + (overall_interval_median - med) * 0.5)\n",
    "        else:\n",
    "            med = overall_interval_median\n",
    "        # 最後一次購買\n",
    "        last_buy_time = max(OrderData.OrderDateTime)\n",
    "        # 三倍購物週期時間\n",
    "        triple_period_time = last_buy_time - pd.Timedelta(seconds= 3* med)\n",
    "        try:\n",
    "            # 三倍購物週期內購物的次數\n",
    "            purchase_times_in_triple_period_time = OrderData_id[(OrderData_id.OrderDateTime >= triple_period_time) & (OrderData_id.OrderDateTime <= last_buy_time)].groupby([\"ShopMemberId\", \"TradesGroupCode\"]).count().reset_index().ShopMemberId.count()\n",
    "        except:\n",
    "            purchase_times_in_triple_period_time = 0\n",
    "        # rule based\n",
    "        # 購買過一次以上且三倍購物週期內還有再購買\n",
    "        if F>1 & purchase_times_in_triple_period_time > 0:\n",
    "            return 'A'\n",
    "        # 購買過一次以上三倍購物周期內沒有買\n",
    "        elif F>1 & purchase_times_in_triple_period_time == 0:\n",
    "            return 'P'\n",
    "        # 購買過一次三倍購物週期內只買一次\n",
    "        elif F ==1 & purchase_times_in_triple_period_time == 1:\n",
    "            return 'N'\n",
    "        else:\n",
    "            return 'L'\n",
    "    else:\n",
    "        pass"
   ]
  },
  {
   "cell_type": "code",
   "execution_count": null,
   "metadata": {},
   "outputs": [],
   "source": [
    "from tqdm import tqdm\n",
    "overall_median = cal_median(OrderData)\n",
    "labeled_data = OrderData.copy()\n",
    "labeled_data.drop_duplicates(subset='ShopMemberId', inplace= True)\n",
    "labeled_data = labeled_data[['ShopMemberId']].reset_index(drop= True)\n",
    "# for index in tqdm(range(len(labeled_data))):\n",
    "#     labeled_data.loc[index, 'Label'] = labeling(labeled_data.loc[index, 'ShopMemberId'], overall_median)\n",
    "  \n",
    "labeled_data['Label'] = labeled_data['ShopMemberId'].apply(lambda x: labeling(x, overall_median))\n",
    "labeled_data.dropna(inplace= True)\n",
    "labeled_data.reset_index(drop= True, inplace= True)"
   ]
  },
  {
   "cell_type": "code",
   "execution_count": null,
   "metadata": {},
   "outputs": [],
   "source": [
    "labeled_data.Label.unique()"
   ]
  }
 ],
 "metadata": {
  "kernelspec": {
   "display_name": "bigdata",
   "language": "python",
   "name": "python3"
  },
  "language_info": {
   "codemirror_mode": {
    "name": "ipython",
    "version": 3
   },
   "file_extension": ".py",
   "mimetype": "text/x-python",
   "name": "python",
   "nbconvert_exporter": "python",
   "pygments_lexer": "ipython3",
   "version": "3.9.0"
  },
  "orig_nbformat": 4
 },
 "nbformat": 4,
 "nbformat_minor": 2
}
