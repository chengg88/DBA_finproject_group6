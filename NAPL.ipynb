{
 "cells": [
  {
   "cell_type": "code",
   "execution_count": 7,
   "metadata": {},
   "outputs": [],
   "source": [
    "import pandas as pd\n",
    "import numpy as np\n",
    "from datetime import datetime\n",
    "import sys\n",
    "import os\n",
    "import matplotlib.pyplot as plt\n",
    "import json\n",
    "import logging\n",
    "from MSSQLDB_Datamanager import DataManager\n",
    "\n",
    "## logger 設定\n",
    "now = datetime.now()\n",
    "log_filename = 'DBA_finproject_{}.log'.format(now.strftime('%Y-%m-%d'))\n",
    "logger = logging.getLogger(__name__)\n",
    "logger.setLevel(logging.DEBUG)\n",
    "formatter = logging.Formatter('%(asctime)s:%(levelname)s:%(message)s')\n",
    "log_dir = '.\\\\var\\\\log'\n",
    "if not os.path.exists(log_dir):\n",
    "    os.makedirs(log_dir)\n",
    "file_handler = logging.FileHandler('./var/log/' + log_filename)\n",
    "file_handler.setFormatter(formatter)\n",
    "logger.addHandler(file_handler)\n",
    "\n",
    "## config 讀取\n",
    "cfg_path = r\".\\config.json\"\n",
    "with open(cfg_path, 'r', encoding='utf-8-sig') as f:\n",
    "    cfg = json.load(f)\n",
    "# databse connection information\n",
    "db_cfg = cfg['db_connect']\n",
    "db_cfg['creator'] = __import__(db_cfg['creator'])"
   ]
  },
  {
   "cell_type": "code",
   "execution_count": 60,
   "metadata": {},
   "outputs": [
    {
     "name": "stdout",
     "output_type": "stream",
     "text": [
      "{message : return db query result}\n"
     ]
    }
   ],
   "source": [
    "## 資料區間設定\n",
    "time_start = '2023-01-01'\n",
    "time_end = '2023-04-01'\n",
    "## query 資料\n",
    "DM = DataManager(logger, db_cfg ,time_start, time_end)\n",
    "# 撈所有表\n",
    "# Behavior,MemberData,OrderData,OrderSlave,SalePageData,SegmentData = DM.read_ALL_data_from_db()\n",
    "# 只撈其中一張\n",
    "OrderData = DM.read_data_from_db(TableName= 'OrderData')"
   ]
  },
  {
   "cell_type": "code",
   "execution_count": 61,
   "metadata": {},
   "outputs": [],
   "source": [
    "# 挑選要的欄位\n",
    "OrderData = OrderData[['ShopMemberId', 'TradesGroupCode', 'OrderDateTime', 'StatusDef']].sort_values('OrderDateTime')\n",
    "OrderData = OrderData[OrderData['StatusDef'] == 'Finish']\n",
    "OrderData.reset_index(drop = True , inplace= True)\n",
    "# 時間轉換\n",
    "OrderData.OrderDateTime = OrderData.OrderDateTime.apply(lambda x: pd.to_datetime(x).strftime('%Y-%m-%d %H:%M:%S'))\n",
    "OrderData.OrderDateTime = pd.to_datetime(OrderData.OrderDateTime)\n",
    "# 計算 Frequency\n",
    "F = OrderData.groupby('ShopMemberId')['TradesGroupCode'].count().reset_index()\n",
    "F.rename(columns= {'TradesGroupCode': 'Frequency'} , inplace=True)\n",
    "# 找出不重複的id\n",
    "member_FM = OrderData.copy()\n",
    "member_FM.drop_duplicates('ShopMemberId', inplace= True)\n",
    "member_FM = member_FM[['ShopMemberId']]\n",
    "member_FM = member_FM.merge(F, on = 'ShopMemberId')\n",
    "# 計算每個人的區間\n",
    "interval = OrderData.copy()\n",
    "# 計算每個人的購物間隔\n",
    "interval['interval'] = interval.groupby('ShopMemberId', as_index = True).OrderDateTime.diff()\n",
    "interval['interval'] = interval['interval'].dt.total_seconds() \n",
    "# 把只有一筆購物紀錄與第一筆購物紀錄刪掉\n",
    "interval.dropna(inplace=True)\n",
    "interval = interval.sort_values(['ShopMemberId', 'OrderDateTime']).groupby('ShopMemberId').interval.median().reset_index()\n",
    "# 計算所有人購物間隔的中位數\n",
    "overall_interval_median = interval.interval.median()\n",
    "# 依會員mapping間隔中位數\n",
    "member_FM = member_FM.merge(interval, on = 'ShopMemberId', how = 'left')\n",
    "# 給予全部會員各自的間隔中位數與全體間隔中位數權重\n",
    "member_FM['interval'] = member_FM.interval.apply(lambda x: abs(x + (overall_interval_median - x) * 0.5) if x is not None else x)\n",
    "# 只購買一次的用全體中位數替代\n",
    "member_FM.interval.fillna(overall_interval_median, inplace = True)\n",
    "max_time = max(OrderData.OrderDateTime)\n",
    "# 計算三倍購物周期的時間\n",
    "member_FM['3PeriodTime'] = member_FM.interval.apply(lambda x: max_time - pd.Timedelta(seconds= 3 * x))\n",
    "# 計算三倍購物週期期間的購物次數\n",
    "member_FM['Recency'] = member_FM.apply(lambda x: len(OrderData[(OrderData.ShopMemberId == x['ShopMemberId'])&(OrderData.OrderDateTime >= x['3PeriodTime'])]), axis =1)\n",
    "# NAPL 會員人數\n",
    "N = member_FM[(member_FM.Frequency == 1)&(member_FM.Recency == 1)].ShopMemberId.tolist()\n",
    "L = member_FM[(member_FM.Frequency == 1)&(member_FM.Recency == 0)].ShopMemberId.tolist()\n",
    "P = member_FM[(member_FM.Frequency > 1)&(member_FM.Recency == 0)].ShopMemberId.tolist()\n",
    "A = member_FM[(member_FM.Frequency > 1)&(member_FM.Recency >= 1)].ShopMemberId.tolist()\n",
    "# Labeling\n",
    "member_FM['Label'] = member_FM.ShopMemberId.apply(lambda x: 'N' if x in N else ('L' if x in L else ('P' if x in P else 'A')))"
   ]
  }
 ],
 "metadata": {
  "kernelspec": {
   "display_name": "bigdata",
   "language": "python",
   "name": "python3"
  },
  "language_info": {
   "codemirror_mode": {
    "name": "ipython",
    "version": 3
   },
   "file_extension": ".py",
   "mimetype": "text/x-python",
   "name": "python",
   "nbconvert_exporter": "python",
   "pygments_lexer": "ipython3",
   "version": "3.9.0"
  },
  "orig_nbformat": 4
 },
 "nbformat": 4,
 "nbformat_minor": 2
}
